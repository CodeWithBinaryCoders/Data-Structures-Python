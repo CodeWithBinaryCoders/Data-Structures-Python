{
 "cells": [
  {
   "cell_type": "markdown",
   "metadata": {},
   "source": [
    "# DFS Tree Traversal\n",
    "## (In-order, Pre-order, Post-order)"
   ]
  },
  {
   "cell_type": "code",
   "execution_count": 22,
   "metadata": {},
   "outputs": [],
   "source": [
    "class Node:\n",
    "    def __init__(self, data):\n",
    "        # initialization of node\n",
    "        self.data = data\n",
    "        self.left = None\n",
    "        self.right = None"
   ]
  },
  {
   "cell_type": "code",
   "execution_count": 23,
   "metadata": {},
   "outputs": [],
   "source": [
    "class BST:\n",
    "    def __init__(self):\n",
    "        self.root = None # creation of a BST object\n",
    "\n",
    "    # insert\n",
    "        \n",
    "    def __insert_private(self, root, data):\n",
    "        if not root: # if root in Node\n",
    "            return Node(data)\n",
    "        \n",
    "        if data <= root.data:\n",
    "            root.left = self.__insert_private(root.left, data)\n",
    "        else:\n",
    "            root.right = self.__insert_private(root.right, data)\n",
    "\n",
    "        return root\n",
    "\n",
    "    def insert(self, data):\n",
    "        self.root = self.__insert_private(self.root, data)\n",
    "\n",
    "    # inorder\n",
    "        \n",
    "    def __inorder_traverse_private(self, root):\n",
    "        if root:\n",
    "            self.__inorder_traverse_private(root.left)\n",
    "            print(root.data, end = ' ')\n",
    "            self.__inorder_traverse_private(root.right)\n",
    "\n",
    "    def inorder_traverse(self):\n",
    "        self.__inorder_traverse_private(self.root)\n",
    "        print()\n",
    "\n",
    "    # preorder\n",
    "        \n",
    "    def __preorder_traverse_private(self, root):\n",
    "        if root:\n",
    "            print(root.data, end = ' ')\n",
    "            self.__preorder_traverse_private(root.left)\n",
    "            self.__preorder_traverse_private(root.right)\n",
    "\n",
    "    def preorder_traverse(self):\n",
    "        self.__preorder_traverse_private(self.root)\n",
    "        print()\n",
    "\n",
    "    # postorder\n",
    "        \n",
    "    def __postorder_traverse_private(self, root):\n",
    "        if root:\n",
    "            self.__postorder_traverse_private(root.left)\n",
    "            self.__postorder_traverse_private(root.right)\n",
    "            print(root.data, end = ' ')\n",
    "\n",
    "    def postorder_traverse(self):\n",
    "        self.__postorder_traverse_private(self.root)\n",
    "        print()"
   ]
  },
  {
   "cell_type": "code",
   "execution_count": 24,
   "metadata": {},
   "outputs": [],
   "source": [
    "b1 = BST()"
   ]
  },
  {
   "cell_type": "code",
   "execution_count": 25,
   "metadata": {},
   "outputs": [],
   "source": [
    "b1.insert(10)\n",
    "b1.insert(5)\n",
    "b1.insert(15)\n",
    "b1.insert(3)\n",
    "b1.insert(7)\n",
    "b1.insert(12)\n",
    "b1.insert(17)"
   ]
  },
  {
   "cell_type": "code",
   "execution_count": 26,
   "metadata": {},
   "outputs": [
    {
     "name": "stdout",
     "output_type": "stream",
     "text": [
      "3 5 7 10 12 15 17 \n"
     ]
    }
   ],
   "source": [
    "b1.inorder_traverse()"
   ]
  },
  {
   "cell_type": "code",
   "execution_count": 27,
   "metadata": {},
   "outputs": [
    {
     "name": "stdout",
     "output_type": "stream",
     "text": [
      "10 5 3 7 15 12 17 \n"
     ]
    }
   ],
   "source": [
    "b1.preorder_traverse()"
   ]
  },
  {
   "cell_type": "code",
   "execution_count": 28,
   "metadata": {},
   "outputs": [
    {
     "name": "stdout",
     "output_type": "stream",
     "text": [
      "3 7 5 12 17 15 10 \n"
     ]
    }
   ],
   "source": [
    "b1.postorder_traverse()"
   ]
  }
 ],
 "metadata": {
  "kernelspec": {
   "display_name": "Python 3",
   "language": "python",
   "name": "python3"
  },
  "language_info": {
   "codemirror_mode": {
    "name": "ipython",
    "version": 3
   },
   "file_extension": ".py",
   "mimetype": "text/x-python",
   "name": "python",
   "nbconvert_exporter": "python",
   "pygments_lexer": "ipython3",
   "version": "3.11.5"
  }
 },
 "nbformat": 4,
 "nbformat_minor": 2
}
